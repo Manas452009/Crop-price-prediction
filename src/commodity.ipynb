{
 "cells": [
  {
   "cell_type": "code",
   "execution_count": 1,
   "id": "ec9c024a-f0ff-4da4-bcd6-cad7a3a3f2f8",
   "metadata": {},
   "outputs": [],
   "source": [
    "import matplotlib.pyplot as plt"
   ]
  },
  {
   "cell_type": "code",
   "execution_count": 2,
   "id": "645944a9-e355-49ca-b164-0d1b4a92987c",
   "metadata": {},
   "outputs": [
    {
     "name": "stdout",
     "output_type": "stream",
     "text": [
      "    State   District    Market    Commodity Variety Grade Arrival_Date  \\\n",
      "0  Odisha  Sambalpur  Kuchinda  Cauliflower   Other   FAQ   02/07/2024   \n",
      "1  Odisha  Sambalpur  Kuchinda  Cauliflower   Other   FAQ   18/07/2024   \n",
      "2  Odisha  Sambalpur  Kuchinda  Cauliflower   Other   FAQ   19/07/2024   \n",
      "3  Odisha  Sambalpur  Kuchinda  Cauliflower   Other   FAQ   20/07/2024   \n",
      "4  Odisha  Sambalpur  Kuchinda        Onion   Other   FAQ   09/07/2024   \n",
      "\n",
      "   Min_Price  Max_Price  Modal_Price  Commodity_Code  \n",
      "0     6800.0     7000.0       6900.0              34  \n",
      "1     8000.0     8500.0       8300.0              34  \n",
      "2     6000.0     7000.0       6500.0              34  \n",
      "3     6000.0     7000.0       6500.0              34  \n",
      "4     3600.0     4000.0       3700.0              23  \n"
     ]
    }
   ],
   "source": [
    "import pandas as pd\n",
    "df = pd.read_csv('merged_data.csv')\n",
    "print(df.head())"
   ]
  },
  {
   "cell_type": "code",
   "execution_count": 3,
   "id": "5899617a-7763-4001-ac25-2da73fbf2b6b",
   "metadata": {
    "scrolled": true
   },
   "outputs": [
    {
     "name": "stdout",
     "output_type": "stream",
     "text": [
      "<class 'pandas.core.frame.DataFrame'>\n",
      "RangeIndex: 6078447 entries, 0 to 6078446\n",
      "Data columns (total 11 columns):\n",
      " #   Column          Dtype  \n",
      "---  ------          -----  \n",
      " 0   State           object \n",
      " 1   District        object \n",
      " 2   Market          object \n",
      " 3   Commodity       object \n",
      " 4   Variety         object \n",
      " 5   Grade           object \n",
      " 6   Arrival_Date    object \n",
      " 7   Min_Price       float64\n",
      " 8   Max_Price       float64\n",
      " 9   Modal_Price     float64\n",
      " 10  Commodity_Code  int64  \n",
      "dtypes: float64(3), int64(1), object(7)\n",
      "memory usage: 510.1+ MB\n"
     ]
    }
   ],
   "source": [
    "df.info()"
   ]
  },
  {
   "cell_type": "code",
   "execution_count": 4,
   "id": "8dc36acc-2cfe-4d8a-af22-37e6ea5705af",
   "metadata": {},
   "outputs": [
    {
     "data": {
      "text/plain": [
       "array(['Odisha', 'Madhya Pradesh', 'Assam', 'Haryana', 'Kerala',\n",
       "       'Tamil Nadu', 'West Bengal', 'Himachal Pradesh', 'Telangana',\n",
       "       'Bihar', 'Andhra Pradesh', 'Chattisgarh', 'Karnataka', 'Goa',\n",
       "       'Maharashtra', 'Punjab', 'Jammu and Kashmir', 'Meghalaya',\n",
       "       'Manipur', 'NCT of Delhi', 'Rajasthan', 'Uttrakhand', 'Nagaland',\n",
       "       'Jharkhand', 'Uttar Pradesh', 'Gujarat', 'Tripura',\n",
       "       'Andaman and Nicobar', 'Mizoram', 'Chandigarh'], dtype=object)"
      ]
     },
     "execution_count": 4,
     "metadata": {},
     "output_type": "execute_result"
    }
   ],
   "source": [
    "df['State'].unique()"
   ]
  },
  {
   "cell_type": "code",
   "execution_count": 5,
   "id": "d5949685-96cd-4999-813c-5859eb657931",
   "metadata": {},
   "outputs": [
    {
     "name": "stdout",
     "output_type": "stream",
     "text": [
      "State             0\n",
      "District          0\n",
      "Market            0\n",
      "Commodity         0\n",
      "Variety           0\n",
      "Grade             0\n",
      "Arrival_Date      0\n",
      "Min_Price         0\n",
      "Max_Price         0\n",
      "Modal_Price       0\n",
      "Commodity_Code    0\n",
      "dtype: int64\n"
     ]
    }
   ],
   "source": [
    "nullvalues = df.isnull().sum()\n",
    "print(nullvalues)"
   ]
  },
  {
   "cell_type": "code",
   "execution_count": 6,
   "id": "a021fe2a-dfbf-4711-9035-0cb58db5239f",
   "metadata": {},
   "outputs": [
    {
     "data": {
      "text/html": [
       "<div>\n",
       "<style scoped>\n",
       "    .dataframe tbody tr th:only-of-type {\n",
       "        vertical-align: middle;\n",
       "    }\n",
       "\n",
       "    .dataframe tbody tr th {\n",
       "        vertical-align: top;\n",
       "    }\n",
       "\n",
       "    .dataframe thead th {\n",
       "        text-align: right;\n",
       "    }\n",
       "</style>\n",
       "<table border=\"1\" class=\"dataframe\">\n",
       "  <thead>\n",
       "    <tr style=\"text-align: right;\">\n",
       "      <th></th>\n",
       "      <th>State</th>\n",
       "      <th>District</th>\n",
       "      <th>Commodity</th>\n",
       "      <th>Arrival_Date</th>\n",
       "      <th>Min_Price</th>\n",
       "      <th>Max_Price</th>\n",
       "      <th>Modal_Price</th>\n",
       "    </tr>\n",
       "  </thead>\n",
       "  <tbody>\n",
       "    <tr>\n",
       "      <th>0</th>\n",
       "      <td>Odisha</td>\n",
       "      <td>Sambalpur</td>\n",
       "      <td>Cauliflower</td>\n",
       "      <td>02/07/2024</td>\n",
       "      <td>6800.0</td>\n",
       "      <td>7000.0</td>\n",
       "      <td>6900.0</td>\n",
       "    </tr>\n",
       "    <tr>\n",
       "      <th>1</th>\n",
       "      <td>Odisha</td>\n",
       "      <td>Sambalpur</td>\n",
       "      <td>Cauliflower</td>\n",
       "      <td>18/07/2024</td>\n",
       "      <td>8000.0</td>\n",
       "      <td>8500.0</td>\n",
       "      <td>8300.0</td>\n",
       "    </tr>\n",
       "    <tr>\n",
       "      <th>2</th>\n",
       "      <td>Odisha</td>\n",
       "      <td>Sambalpur</td>\n",
       "      <td>Cauliflower</td>\n",
       "      <td>19/07/2024</td>\n",
       "      <td>6000.0</td>\n",
       "      <td>7000.0</td>\n",
       "      <td>6500.0</td>\n",
       "    </tr>\n",
       "    <tr>\n",
       "      <th>3</th>\n",
       "      <td>Odisha</td>\n",
       "      <td>Sambalpur</td>\n",
       "      <td>Cauliflower</td>\n",
       "      <td>20/07/2024</td>\n",
       "      <td>6000.0</td>\n",
       "      <td>7000.0</td>\n",
       "      <td>6500.0</td>\n",
       "    </tr>\n",
       "    <tr>\n",
       "      <th>4</th>\n",
       "      <td>Odisha</td>\n",
       "      <td>Sambalpur</td>\n",
       "      <td>Onion</td>\n",
       "      <td>09/07/2024</td>\n",
       "      <td>3600.0</td>\n",
       "      <td>4000.0</td>\n",
       "      <td>3700.0</td>\n",
       "    </tr>\n",
       "    <tr>\n",
       "      <th>...</th>\n",
       "      <td>...</td>\n",
       "      <td>...</td>\n",
       "      <td>...</td>\n",
       "      <td>...</td>\n",
       "      <td>...</td>\n",
       "      <td>...</td>\n",
       "      <td>...</td>\n",
       "    </tr>\n",
       "    <tr>\n",
       "      <th>6078442</th>\n",
       "      <td>Haryana</td>\n",
       "      <td>Bhiwani</td>\n",
       "      <td>Maize</td>\n",
       "      <td>29/07/2024</td>\n",
       "      <td>2300.0</td>\n",
       "      <td>2340.0</td>\n",
       "      <td>2320.0</td>\n",
       "    </tr>\n",
       "    <tr>\n",
       "      <th>6078443</th>\n",
       "      <td>Haryana</td>\n",
       "      <td>Bhiwani</td>\n",
       "      <td>Maize</td>\n",
       "      <td>21/08/2024</td>\n",
       "      <td>2300.0</td>\n",
       "      <td>2300.0</td>\n",
       "      <td>2300.0</td>\n",
       "    </tr>\n",
       "    <tr>\n",
       "      <th>6078444</th>\n",
       "      <td>Haryana</td>\n",
       "      <td>Bhiwani</td>\n",
       "      <td>Bajra(Pearl Millet/Cumbu)</td>\n",
       "      <td>04/11/2024</td>\n",
       "      <td>2625.0</td>\n",
       "      <td>2625.0</td>\n",
       "      <td>2625.0</td>\n",
       "    </tr>\n",
       "    <tr>\n",
       "      <th>6078445</th>\n",
       "      <td>Haryana</td>\n",
       "      <td>Bhiwani</td>\n",
       "      <td>Cotton</td>\n",
       "      <td>11/11/2024</td>\n",
       "      <td>7200.0</td>\n",
       "      <td>7300.0</td>\n",
       "      <td>7250.0</td>\n",
       "    </tr>\n",
       "    <tr>\n",
       "      <th>6078446</th>\n",
       "      <td>Haryana</td>\n",
       "      <td>Bhiwani</td>\n",
       "      <td>Cotton</td>\n",
       "      <td>23/11/2024</td>\n",
       "      <td>6800.0</td>\n",
       "      <td>6800.0</td>\n",
       "      <td>6800.0</td>\n",
       "    </tr>\n",
       "  </tbody>\n",
       "</table>\n",
       "<p>6078447 rows × 7 columns</p>\n",
       "</div>"
      ],
      "text/plain": [
       "           State   District                  Commodity Arrival_Date  \\\n",
       "0         Odisha  Sambalpur                Cauliflower   02/07/2024   \n",
       "1         Odisha  Sambalpur                Cauliflower   18/07/2024   \n",
       "2         Odisha  Sambalpur                Cauliflower   19/07/2024   \n",
       "3         Odisha  Sambalpur                Cauliflower   20/07/2024   \n",
       "4         Odisha  Sambalpur                      Onion   09/07/2024   \n",
       "...          ...        ...                        ...          ...   \n",
       "6078442  Haryana    Bhiwani                      Maize   29/07/2024   \n",
       "6078443  Haryana    Bhiwani                      Maize   21/08/2024   \n",
       "6078444  Haryana    Bhiwani  Bajra(Pearl Millet/Cumbu)   04/11/2024   \n",
       "6078445  Haryana    Bhiwani                     Cotton   11/11/2024   \n",
       "6078446  Haryana    Bhiwani                     Cotton   23/11/2024   \n",
       "\n",
       "         Min_Price  Max_Price  Modal_Price  \n",
       "0           6800.0     7000.0       6900.0  \n",
       "1           8000.0     8500.0       8300.0  \n",
       "2           6000.0     7000.0       6500.0  \n",
       "3           6000.0     7000.0       6500.0  \n",
       "4           3600.0     4000.0       3700.0  \n",
       "...            ...        ...          ...  \n",
       "6078442     2300.0     2340.0       2320.0  \n",
       "6078443     2300.0     2300.0       2300.0  \n",
       "6078444     2625.0     2625.0       2625.0  \n",
       "6078445     7200.0     7300.0       7250.0  \n",
       "6078446     6800.0     6800.0       6800.0  \n",
       "\n",
       "[6078447 rows x 7 columns]"
      ]
     },
     "execution_count": 6,
     "metadata": {},
     "output_type": "execute_result"
    }
   ],
   "source": [
    "df.pop('Grade')\n",
    "df.pop('Commodity_Code')\n",
    "df.pop('Market')\n",
    "df.pop('Variety')\n",
    "df"
   ]
  },
  {
   "cell_type": "code",
   "execution_count": 7,
   "id": "8db38af7-e971-40eb-a19b-6bcd5ab95f88",
   "metadata": {},
   "outputs": [
    {
     "name": "stdout",
     "output_type": "stream",
     "text": [
      "<class 'pandas.core.frame.DataFrame'>\n",
      "RangeIndex: 6078447 entries, 0 to 6078446\n",
      "Data columns (total 7 columns):\n",
      " #   Column        Dtype  \n",
      "---  ------        -----  \n",
      " 0   State         object \n",
      " 1   District      object \n",
      " 2   Commodity     object \n",
      " 3   Arrival_Date  object \n",
      " 4   Min_Price     float64\n",
      " 5   Max_Price     float64\n",
      " 6   Modal_Price   float64\n",
      "dtypes: float64(3), object(4)\n",
      "memory usage: 324.6+ MB\n"
     ]
    }
   ],
   "source": [
    "df.info()"
   ]
  },
  {
   "cell_type": "code",
   "execution_count": 8,
   "id": "ee2c5313-f479-4754-9a86-17ff18df2e46",
   "metadata": {},
   "outputs": [
    {
     "data": {
      "text/html": [
       "<div>\n",
       "<style scoped>\n",
       "    .dataframe tbody tr th:only-of-type {\n",
       "        vertical-align: middle;\n",
       "    }\n",
       "\n",
       "    .dataframe tbody tr th {\n",
       "        vertical-align: top;\n",
       "    }\n",
       "\n",
       "    .dataframe thead th {\n",
       "        text-align: right;\n",
       "    }\n",
       "</style>\n",
       "<table border=\"1\" class=\"dataframe\">\n",
       "  <thead>\n",
       "    <tr style=\"text-align: right;\">\n",
       "      <th></th>\n",
       "      <th>Min_Price</th>\n",
       "      <th>Max_Price</th>\n",
       "      <th>Modal_Price</th>\n",
       "    </tr>\n",
       "  </thead>\n",
       "  <tbody>\n",
       "    <tr>\n",
       "      <th>count</th>\n",
       "      <td>6.078447e+06</td>\n",
       "      <td>6.078447e+06</td>\n",
       "      <td>6.078447e+06</td>\n",
       "    </tr>\n",
       "    <tr>\n",
       "      <th>mean</th>\n",
       "      <td>3.922288e+03</td>\n",
       "      <td>4.896489e+03</td>\n",
       "      <td>4.434035e+03</td>\n",
       "    </tr>\n",
       "    <tr>\n",
       "      <th>std</th>\n",
       "      <td>1.190742e+04</td>\n",
       "      <td>2.288408e+04</td>\n",
       "      <td>1.435134e+04</td>\n",
       "    </tr>\n",
       "    <tr>\n",
       "      <th>min</th>\n",
       "      <td>0.000000e+00</td>\n",
       "      <td>0.000000e+00</td>\n",
       "      <td>7.000000e-02</td>\n",
       "    </tr>\n",
       "    <tr>\n",
       "      <th>25%</th>\n",
       "      <td>1.354000e+03</td>\n",
       "      <td>1.800000e+03</td>\n",
       "      <td>1.600000e+03</td>\n",
       "    </tr>\n",
       "    <tr>\n",
       "      <th>50%</th>\n",
       "      <td>2.400000e+03</td>\n",
       "      <td>3.000000e+03</td>\n",
       "      <td>2.700000e+03</td>\n",
       "    </tr>\n",
       "    <tr>\n",
       "      <th>75%</th>\n",
       "      <td>4.025000e+03</td>\n",
       "      <td>5.000000e+03</td>\n",
       "      <td>4.715000e+03</td>\n",
       "    </tr>\n",
       "    <tr>\n",
       "      <th>max</th>\n",
       "      <td>4.000000e+06</td>\n",
       "      <td>4.000000e+06</td>\n",
       "      <td>4.000000e+06</td>\n",
       "    </tr>\n",
       "  </tbody>\n",
       "</table>\n",
       "</div>"
      ],
      "text/plain": [
       "          Min_Price     Max_Price   Modal_Price\n",
       "count  6.078447e+06  6.078447e+06  6.078447e+06\n",
       "mean   3.922288e+03  4.896489e+03  4.434035e+03\n",
       "std    1.190742e+04  2.288408e+04  1.435134e+04\n",
       "min    0.000000e+00  0.000000e+00  7.000000e-02\n",
       "25%    1.354000e+03  1.800000e+03  1.600000e+03\n",
       "50%    2.400000e+03  3.000000e+03  2.700000e+03\n",
       "75%    4.025000e+03  5.000000e+03  4.715000e+03\n",
       "max    4.000000e+06  4.000000e+06  4.000000e+06"
      ]
     },
     "execution_count": 8,
     "metadata": {},
     "output_type": "execute_result"
    }
   ],
   "source": [
    "df.describe()"
   ]
  },
  {
   "cell_type": "code",
   "execution_count": 9,
   "id": "a31801b1-82e3-4bbd-813f-7ea51a11635b",
   "metadata": {},
   "outputs": [
    {
     "data": {
      "text/plain": [
       "count     6078447\n",
       "unique         30\n",
       "top        Kerala\n",
       "freq       656879\n",
       "Name: State, dtype: object"
      ]
     },
     "execution_count": 9,
     "metadata": {},
     "output_type": "execute_result"
    }
   ],
   "source": [
    "df['State'].describe()"
   ]
  },
  {
   "cell_type": "code",
   "execution_count": 10,
   "id": "873e8712-9925-4be3-bf58-6c2eb3981465",
   "metadata": {},
   "outputs": [
    {
     "name": "stdout",
     "output_type": "stream",
     "text": [
      "           State   District                  Commodity Arrival_Date  \\\n",
      "0         Odisha  Sambalpur                Cauliflower   2024-07-02   \n",
      "1         Odisha  Sambalpur                Cauliflower   2024-07-18   \n",
      "2         Odisha  Sambalpur                Cauliflower   2024-07-19   \n",
      "3         Odisha  Sambalpur                Cauliflower   2024-07-20   \n",
      "4         Odisha  Sambalpur                      Onion   2024-07-09   \n",
      "...          ...        ...                        ...          ...   \n",
      "6078442  Haryana    Bhiwani                      Maize   2024-07-29   \n",
      "6078443  Haryana    Bhiwani                      Maize   2024-08-21   \n",
      "6078444  Haryana    Bhiwani  Bajra(Pearl Millet/Cumbu)   2024-11-04   \n",
      "6078445  Haryana    Bhiwani                     Cotton   2024-11-11   \n",
      "6078446  Haryana    Bhiwani                     Cotton   2024-11-23   \n",
      "\n",
      "         Min_Price  Max_Price  Modal_Price  Month  Year  \n",
      "0           6800.0     7000.0       6900.0      7  2024  \n",
      "1           8000.0     8500.0       8300.0      7  2024  \n",
      "2           6000.0     7000.0       6500.0      7  2024  \n",
      "3           6000.0     7000.0       6500.0      7  2024  \n",
      "4           3600.0     4000.0       3700.0      7  2024  \n",
      "...            ...        ...          ...    ...   ...  \n",
      "6078442     2300.0     2340.0       2320.0      7  2024  \n",
      "6078443     2300.0     2300.0       2300.0      8  2024  \n",
      "6078444     2625.0     2625.0       2625.0     11  2024  \n",
      "6078445     7200.0     7300.0       7250.0     11  2024  \n",
      "6078446     6800.0     6800.0       6800.0     11  2024  \n",
      "\n",
      "[6078447 rows x 9 columns]\n"
     ]
    }
   ],
   "source": [
    "# Convert 'Arrival_Date' to datetime format\n",
    "df['Arrival_Date'] = pd.to_datetime(df['Arrival_Date'], format='%d/%m/%Y')\n",
    "\n",
    "# Creating month and year columns\n",
    "df['Month'] = df['Arrival_Date'].dt.month\n",
    "df['Year'] = df['Arrival_Date'].dt.year\n",
    "\n",
    "print(df)"
   ]
  },
  {
   "cell_type": "code",
   "execution_count": 11,
   "id": "f11eaa7d-47c0-492b-86bb-b3e29edaf6cc",
   "metadata": {},
   "outputs": [
    {
     "data": {
      "text/html": [
       "<div>\n",
       "<style scoped>\n",
       "    .dataframe tbody tr th:only-of-type {\n",
       "        vertical-align: middle;\n",
       "    }\n",
       "\n",
       "    .dataframe tbody tr th {\n",
       "        vertical-align: top;\n",
       "    }\n",
       "\n",
       "    .dataframe thead th {\n",
       "        text-align: right;\n",
       "    }\n",
       "</style>\n",
       "<table border=\"1\" class=\"dataframe\">\n",
       "  <thead>\n",
       "    <tr style=\"text-align: right;\">\n",
       "      <th></th>\n",
       "      <th>State</th>\n",
       "      <th>District</th>\n",
       "      <th>Commodity</th>\n",
       "      <th>Arrival_Date</th>\n",
       "      <th>Min_Price</th>\n",
       "      <th>Max_Price</th>\n",
       "      <th>Modal_Price</th>\n",
       "      <th>Month</th>\n",
       "      <th>Year</th>\n",
       "    </tr>\n",
       "  </thead>\n",
       "  <tbody>\n",
       "    <tr>\n",
       "      <th>0</th>\n",
       "      <td>Odisha</td>\n",
       "      <td>Sambalpur</td>\n",
       "      <td>Cauliflower</td>\n",
       "      <td>2024-07-02</td>\n",
       "      <td>6800.0</td>\n",
       "      <td>7000.0</td>\n",
       "      <td>6900.0</td>\n",
       "      <td>7</td>\n",
       "      <td>2024</td>\n",
       "    </tr>\n",
       "    <tr>\n",
       "      <th>1</th>\n",
       "      <td>Odisha</td>\n",
       "      <td>Sambalpur</td>\n",
       "      <td>Cauliflower</td>\n",
       "      <td>2024-07-18</td>\n",
       "      <td>8000.0</td>\n",
       "      <td>8500.0</td>\n",
       "      <td>8300.0</td>\n",
       "      <td>7</td>\n",
       "      <td>2024</td>\n",
       "    </tr>\n",
       "    <tr>\n",
       "      <th>2</th>\n",
       "      <td>Odisha</td>\n",
       "      <td>Sambalpur</td>\n",
       "      <td>Cauliflower</td>\n",
       "      <td>2024-07-19</td>\n",
       "      <td>6000.0</td>\n",
       "      <td>7000.0</td>\n",
       "      <td>6500.0</td>\n",
       "      <td>7</td>\n",
       "      <td>2024</td>\n",
       "    </tr>\n",
       "    <tr>\n",
       "      <th>3</th>\n",
       "      <td>Odisha</td>\n",
       "      <td>Sambalpur</td>\n",
       "      <td>Cauliflower</td>\n",
       "      <td>2024-07-20</td>\n",
       "      <td>6000.0</td>\n",
       "      <td>7000.0</td>\n",
       "      <td>6500.0</td>\n",
       "      <td>7</td>\n",
       "      <td>2024</td>\n",
       "    </tr>\n",
       "    <tr>\n",
       "      <th>4</th>\n",
       "      <td>Odisha</td>\n",
       "      <td>Sambalpur</td>\n",
       "      <td>Onion</td>\n",
       "      <td>2024-07-09</td>\n",
       "      <td>3600.0</td>\n",
       "      <td>4000.0</td>\n",
       "      <td>3700.0</td>\n",
       "      <td>7</td>\n",
       "      <td>2024</td>\n",
       "    </tr>\n",
       "    <tr>\n",
       "      <th>...</th>\n",
       "      <td>...</td>\n",
       "      <td>...</td>\n",
       "      <td>...</td>\n",
       "      <td>...</td>\n",
       "      <td>...</td>\n",
       "      <td>...</td>\n",
       "      <td>...</td>\n",
       "      <td>...</td>\n",
       "      <td>...</td>\n",
       "    </tr>\n",
       "    <tr>\n",
       "      <th>6078442</th>\n",
       "      <td>Haryana</td>\n",
       "      <td>Bhiwani</td>\n",
       "      <td>Maize</td>\n",
       "      <td>2024-07-29</td>\n",
       "      <td>2300.0</td>\n",
       "      <td>2340.0</td>\n",
       "      <td>2320.0</td>\n",
       "      <td>7</td>\n",
       "      <td>2024</td>\n",
       "    </tr>\n",
       "    <tr>\n",
       "      <th>6078443</th>\n",
       "      <td>Haryana</td>\n",
       "      <td>Bhiwani</td>\n",
       "      <td>Maize</td>\n",
       "      <td>2024-08-21</td>\n",
       "      <td>2300.0</td>\n",
       "      <td>2300.0</td>\n",
       "      <td>2300.0</td>\n",
       "      <td>8</td>\n",
       "      <td>2024</td>\n",
       "    </tr>\n",
       "    <tr>\n",
       "      <th>6078444</th>\n",
       "      <td>Haryana</td>\n",
       "      <td>Bhiwani</td>\n",
       "      <td>Bajra(Pearl Millet/Cumbu)</td>\n",
       "      <td>2024-11-04</td>\n",
       "      <td>2625.0</td>\n",
       "      <td>2625.0</td>\n",
       "      <td>2625.0</td>\n",
       "      <td>11</td>\n",
       "      <td>2024</td>\n",
       "    </tr>\n",
       "    <tr>\n",
       "      <th>6078445</th>\n",
       "      <td>Haryana</td>\n",
       "      <td>Bhiwani</td>\n",
       "      <td>Cotton</td>\n",
       "      <td>2024-11-11</td>\n",
       "      <td>7200.0</td>\n",
       "      <td>7300.0</td>\n",
       "      <td>7250.0</td>\n",
       "      <td>11</td>\n",
       "      <td>2024</td>\n",
       "    </tr>\n",
       "    <tr>\n",
       "      <th>6078446</th>\n",
       "      <td>Haryana</td>\n",
       "      <td>Bhiwani</td>\n",
       "      <td>Cotton</td>\n",
       "      <td>2024-11-23</td>\n",
       "      <td>6800.0</td>\n",
       "      <td>6800.0</td>\n",
       "      <td>6800.0</td>\n",
       "      <td>11</td>\n",
       "      <td>2024</td>\n",
       "    </tr>\n",
       "  </tbody>\n",
       "</table>\n",
       "<p>6078447 rows × 9 columns</p>\n",
       "</div>"
      ],
      "text/plain": [
       "           State   District                  Commodity Arrival_Date  \\\n",
       "0         Odisha  Sambalpur                Cauliflower   2024-07-02   \n",
       "1         Odisha  Sambalpur                Cauliflower   2024-07-18   \n",
       "2         Odisha  Sambalpur                Cauliflower   2024-07-19   \n",
       "3         Odisha  Sambalpur                Cauliflower   2024-07-20   \n",
       "4         Odisha  Sambalpur                      Onion   2024-07-09   \n",
       "...          ...        ...                        ...          ...   \n",
       "6078442  Haryana    Bhiwani                      Maize   2024-07-29   \n",
       "6078443  Haryana    Bhiwani                      Maize   2024-08-21   \n",
       "6078444  Haryana    Bhiwani  Bajra(Pearl Millet/Cumbu)   2024-11-04   \n",
       "6078445  Haryana    Bhiwani                     Cotton   2024-11-11   \n",
       "6078446  Haryana    Bhiwani                     Cotton   2024-11-23   \n",
       "\n",
       "         Min_Price  Max_Price  Modal_Price  Month  Year  \n",
       "0           6800.0     7000.0       6900.0      7  2024  \n",
       "1           8000.0     8500.0       8300.0      7  2024  \n",
       "2           6000.0     7000.0       6500.0      7  2024  \n",
       "3           6000.0     7000.0       6500.0      7  2024  \n",
       "4           3600.0     4000.0       3700.0      7  2024  \n",
       "...            ...        ...          ...    ...   ...  \n",
       "6078442     2300.0     2340.0       2320.0      7  2024  \n",
       "6078443     2300.0     2300.0       2300.0      8  2024  \n",
       "6078444     2625.0     2625.0       2625.0     11  2024  \n",
       "6078445     7200.0     7300.0       7250.0     11  2024  \n",
       "6078446     6800.0     6800.0       6800.0     11  2024  \n",
       "\n",
       "[6078447 rows x 9 columns]"
      ]
     },
     "execution_count": 11,
     "metadata": {},
     "output_type": "execute_result"
    }
   ],
   "source": [
    "df"
   ]
  },
  {
   "cell_type": "code",
   "execution_count": 12,
   "id": "8e8b7762-dd5c-4089-8cfb-d933960f2038",
   "metadata": {},
   "outputs": [
    {
     "name": "stdout",
     "output_type": "stream",
     "text": [
      "              State                 Commodity    Max_Price\n",
      "0    Andhra Pradesh  Bengal Gram(Gram)(Whole)  4620.000000\n",
      "1    Andhra Pradesh              Gur(Jaggery)  3466.666667\n",
      "2    Andhra Pradesh                     Mango   933.333333\n",
      "3    Andhra Pradesh       Paddy(Dhan)(Common)  1876.250000\n",
      "4    Andhra Pradesh                    Tomato   613.333333\n",
      "..              ...                       ...          ...\n",
      "541     West Bengal                    Potato  1690.000000\n",
      "542     West Bengal                      Rice  3450.000000\n",
      "543     West Bengal          Ridgeguard(Tori)  1935.714286\n",
      "544     West Bengal             Sweet Pumpkin  1466.666667\n",
      "545     West Bengal                    Tomato  1262.500000\n",
      "\n",
      "[546 rows x 3 columns]\n"
     ]
    }
   ],
   "source": [
    "# Filter data by specific arrival date\n",
    "arrival_date = '21-04-2020'\n",
    "filtered_data = df[df['Arrival_Date'] == arrival_date]\n",
    "\n",
    "# Group by state and commodity, then calculate the average price\n",
    "average_prices = filtered_data.groupby(['State', 'Commodity'])['Max_Price'].mean().reset_index()\n",
    "\n",
    "print(average_prices)"
   ]
  },
  {
   "cell_type": "code",
   "execution_count": 13,
   "id": "2b1730c6-20f4-48f7-a8b9-6583c135c195",
   "metadata": {},
   "outputs": [
    {
     "data": {
      "image/png": "[encoded data removed]",
      "text/plain": [
       "<Figure size 640x480 with 1 Axes>"
      ]
     },
     "metadata": {},
     "output_type": "display_data"
    }
   ],
   "source": [
    "plt.bar(average_prices.State, average_prices.Max_Price) # Plotting for all states\n",
    "plt.xlabel(\"State\")\n",
    "plt.ylabel(\"Max Price\")\n",
    "plt.title(\"Max Price per State\")\n",
    "plt.xticks(rotation=90, ha='right') # Rotate x-axis labels for readability\n",
    "plt.tight_layout() # Adjust layout\n",
    "plt.show()"
   ]
  },
  {
   "cell_type": "code",
   "execution_count": 14,
   "id": "ed0c0950-6835-4eb2-bc45-8cc016db1f46",
   "metadata": {},
   "outputs": [
    {
     "name": "stdout",
     "output_type": "stream",
     "text": [
      "                     State   Commodity  Year  Month  Min_Price  Max_Price\n",
      "0      Andaman and Nicobar  Amaranthus  2019      3     1500.0     8000.0\n",
      "1      Andaman and Nicobar  Amaranthus  2019      4     1500.0     6000.0\n",
      "2      Andaman and Nicobar  Amaranthus  2019      5     2000.0     4000.0\n",
      "3      Andaman and Nicobar  Amaranthus  2019      6     2000.0     3000.0\n",
      "4      Andaman and Nicobar  Amaranthus  2019      7     4000.0     8000.0\n",
      "...                    ...         ...   ...    ...        ...        ...\n",
      "88342          West Bengal       Wheat  2024     10     2600.0     2900.0\n",
      "88343          West Bengal       Wheat  2024     11     2700.0     3300.0\n",
      "88344          West Bengal       Wheat  2024     12     2900.0     6000.0\n",
      "88345          West Bengal       Wheat  2025      1     2500.0     3200.0\n",
      "88346          West Bengal       Wheat  2025      2     2800.0     3300.0\n",
      "\n",
      "[88347 rows x 6 columns]\n"
     ]
    }
   ],
   "source": [
    "monthly_price_range_df = df.groupby(['State', 'Commodity', 'Year', 'Month']).agg({'Min_Price': 'min', 'Max_Price': 'max'}).reset_index()\n",
    "print(monthly_price_range_df)\n",
    "monthly_price_range_df.to_csv('price_prediction.csv', index=False)"
   ]
  },
  {
   "cell_type": "code",
   "execution_count": 15,
   "id": "d80f22d7-55d3-420d-8803-5070a168c039",
   "metadata": {},
   "outputs": [
    {
     "name": "stdout",
     "output_type": "stream",
     "text": [
      "         State   District  Commodity Arrival_Date  Min_Price  Max_Price  \\\n",
      "0           21  Sambalpur         56   2024-07-02     6800.0     7000.0   \n",
      "1           21  Sambalpur         56   2024-07-18     8000.0     8500.0   \n",
      "2           21  Sambalpur         56   2024-07-19     6000.0     7000.0   \n",
      "3           21  Sambalpur         56   2024-07-20     6000.0     7000.0   \n",
      "4           21  Sambalpur        197   2024-07-09     3600.0     4000.0   \n",
      "...        ...        ...        ...          ...        ...        ...   \n",
      "6078442      8    Bhiwani        173   2024-07-29     2300.0     2340.0   \n",
      "6078443      8    Bhiwani        173   2024-08-21     2300.0     2300.0   \n",
      "6078444      8    Bhiwani         21   2024-11-04     2625.0     2625.0   \n",
      "6078445      8    Bhiwani         81   2024-11-11     7200.0     7300.0   \n",
      "6078446      8    Bhiwani         81   2024-11-23     6800.0     6800.0   \n",
      "\n",
      "         Modal_Price  Month  Year  \n",
      "0             6900.0      7  2024  \n",
      "1             8300.0      7  2024  \n",
      "2             6500.0      7  2024  \n",
      "3             6500.0      7  2024  \n",
      "4             3700.0      7  2024  \n",
      "...              ...    ...   ...  \n",
      "6078442       2320.0      7  2024  \n",
      "6078443       2300.0      8  2024  \n",
      "6078444       2625.0     11  2024  \n",
      "6078445       7250.0     11  2024  \n",
      "6078446       6800.0     11  2024  \n",
      "\n",
      "[6078447 rows x 9 columns]\n"
     ]
    }
   ],
   "source": [
    "# Encoding categorical variables\n",
    "from sklearn.preprocessing import LabelEncoder\n",
    "label_encoder = LabelEncoder()\n",
    "df['State'] = label_encoder.fit_transform(df['State'])\n",
    "df['Commodity'] = label_encoder.fit_transform(df['Commodity'])\n",
    "\n",
    "print(df)"
   ]
  },
  {
   "cell_type": "code",
   "execution_count": 16,
   "id": "d0b9a01a-07fa-42b6-8b41-4e7ae3a38149",
   "metadata": {},
   "outputs": [
    {
     "name": "stdout",
     "output_type": "stream",
     "text": [
      "Empty DataFrame\n",
      "Columns: [State, Max_Price]\n",
      "Index: []\n"
     ]
    }
   ],
   "source": [
    "# Filter data for the commodity and time interval\n",
    "commodity = 'Wheat'\n",
    "start_date = '01-01-2006'\n",
    "end_date = '02-01-2007'\n",
    "\n",
    "filtered_df = df[(df['Commodity'] == commodity) & (df['Arrival_Date'] >= start_date) & (df['Arrival_Date'] <= end_date)]\n",
    "\n",
    "# Group by district and date to get average price per day\n",
    "daily_avg_df = filtered_df.groupby(['District', 'Arrival_Date','State']).mean(numeric_only=True).reset_index()\n",
    "\n",
    "# Aggregate by state to get average price for the time interval\n",
    "state_avg_price = daily_avg_df.groupby('State')['Max_Price'].mean().reset_index()\n",
    "\n",
    "print(state_avg_price)\n"
   ]
  },
  {
   "cell_type": "code",
   "execution_count": 17,
   "id": "202a50de-4188-48e1-889c-8b215b410610",
   "metadata": {},
   "outputs": [
    {
     "name": "stdout",
     "output_type": "stream",
     "text": [
      "Empty DataFrame\n",
      "Columns: [State, Min_Price]\n",
      "Index: []\n"
     ]
    }
   ],
   "source": [
    "# Filter data for the commodity and time interval\n",
    "commodity = 'Wheat'\n",
    "start_date = '01-01-2019'\n",
    "end_date = '02-01-2021'\n",
    "\n",
    "filtered_df = df[(df['Commodity'] == commodity) & (df['Arrival_Date'] >= start_date) & (df['Arrival_Date'] <= end_date)]\n",
    "\n",
    "# Group by district and date to get average price per day\n",
    "daily_avg_df = filtered_df.groupby(['District', 'Arrival_Date','State']).mean(numeric_only=True).reset_index()\n",
    "\n",
    "# Aggregate by state to get average price for the time interval\n",
    "state_avg_price = daily_avg_df.groupby('State')['Min_Price'].mean().reset_index()\n",
    "\n",
    "print(state_avg_price)\n"
   ]
  },
  {
   "cell_type": "code",
   "execution_count": 18,
   "id": "1402d691-c896-4a4b-9d08-e034c7060254",
   "metadata": {},
   "outputs": [
    {
     "name": "stdout",
     "output_type": "stream",
     "text": [
      "Empty DataFrame\n",
      "Columns: [State, Min_Price, Max_Price]\n",
      "Index: []\n"
     ]
    }
   ],
   "source": [
    "\n",
    "# Filter data for the commodity and time interval\n",
    "commodity = 'Wheat'\n",
    "start_date = '01-01-2006'\n",
    "end_date = '02-01-2007'\n",
    "\n",
    "filtered_df = df[(df['Commodity'] == commodity) & (df['Arrival_Date'] >= start_date) & (df['Arrival_Date'] <= end_date)]\n",
    "\n",
    "# Group by district and date to get average price per day\n",
    "daily_avg_df = filtered_df.groupby(['District', 'Arrival_Date','State']).mean(numeric_only=True).reset_index()\n",
    "\n",
    "# Aggregate by state to get average price for the time interval\n",
    "state_avg_price = daily_avg_df.groupby(['State','Min_Price'])['Max_Price'].mean().reset_index()\n",
    "\n",
    "print(state_avg_price)\n",
    "\n"
   ]
  },
  {
   "cell_type": "code",
   "execution_count": 19,
   "id": "b7b4266c-8e0f-4dc0-87ba-0c8ce198595d",
   "metadata": {},
   "outputs": [
    {
     "data": {
      "text/html": [
       "<div>\n",
       "<style scoped>\n",
       "    .dataframe tbody tr th:only-of-type {\n",
       "        vertical-align: middle;\n",
       "    }\n",
       "\n",
       "    .dataframe tbody tr th {\n",
       "        vertical-align: top;\n",
       "    }\n",
       "\n",
       "    .dataframe thead th {\n",
       "        text-align: right;\n",
       "    }\n",
       "</style>\n",
       "<table border=\"1\" class=\"dataframe\">\n",
       "  <thead>\n",
       "    <tr style=\"text-align: right;\">\n",
       "      <th></th>\n",
       "      <th>State</th>\n",
       "      <th>Min_Price</th>\n",
       "      <th>Max_Price</th>\n",
       "    </tr>\n",
       "  </thead>\n",
       "  <tbody>\n",
       "  </tbody>\n",
       "</table>\n",
       "</div>"
      ],
      "text/plain": [
       "Empty DataFrame\n",
       "Columns: [State, Min_Price, Max_Price]\n",
       "Index: []"
      ]
     },
     "execution_count": 19,
     "metadata": {},
     "output_type": "execute_result"
    }
   ],
   "source": [
    "state_avg_price.head(10)"
   ]
  },
  {
   "cell_type": "code",
   "execution_count": 20,
   "id": "6dab3d08-f97b-402a-9e2c-b822f62ebed1",
   "metadata": {},
   "outputs": [
    {
     "data": {
      "image/png": "[encoded data removed]",
      "text/plain": [
       "<Figure size 640x480 with 1 Axes>"
      ]
     },
     "metadata": {},
     "output_type": "display_data"
    }
   ],
   "source": [
    "plt.plot(state_avg_price.State, state_avg_price.Max_Price)\n",
    "plt.plot(state_avg_price.State, state_avg_price.Min_Price)# Plotting for all states\n",
    "plt.xlabel(\"State\")\n",
    "plt.ylabel(\"Max Price\")\n",
    "plt.title(\"Max Price per State\")\n",
    "plt.xticks(rotation=90, ha='right') # Rotate x-axis labels for readability\n",
    "plt.tight_layout() # Adjust layout\n",
    "plt.show()"
   ]
  }
 ],
 "metadata": {
  "kernelspec": {
   "display_name": "Python [conda env:base] *",
   "language": "python",
   "name": "conda-base-py"
  },
  "language_info": {
   "codemirror_mode": {
    "name": "ipython",
    "version": 3
   },
   "file_extension": ".py",
   "mimetype": "text/x-python",
   "name": "python",
   "nbconvert_exporter": "python",
   "pygments_lexer": "ipython3",
   "version": "3.12.7"
  }
 },
 "nbformat": 4,
 "nbformat_minor": 5
}
